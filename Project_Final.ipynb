{
 "cells": [
  {
   "cell_type": "markdown",
   "metadata": {},
   "source": [
    "## Required Library"
   ]
  },
  {
   "cell_type": "code",
   "execution_count": 1,
   "metadata": {},
   "outputs": [],
   "source": [
    "import pandas as pd\n",
    "import numpy as np\n",
    "\n",
    "from sklearn.model_selection import train_test_split, cross_val_predict, StratifiedKFold, StratifiedShuffleSplit\n",
    "from sklearn.metrics import roc_curve, roc_auc_score, recall_score, precision_score\n",
    "from sklearn.metrics import log_loss, accuracy_score, confusion_matrix, balanced_accuracy_score\n",
    "from sklearn.linear_model import LogisticRegression, RidgeClassifier\n",
    "from sklearn.ensemble import RandomForestClassifier\n",
    "from sklearn.ensemble import AdaBoostClassifier\n",
    "from sklearn.ensemble import GradientBoostingClassifier\n",
    "from sklearn.svm import SVC\n",
    "\n",
    "import matplotlib.pyplot as plt\n",
    "%matplotlib inline\n",
    "from sklearn.preprocessing import binarize, PolynomialFeatures\n",
    "from sklearn.feature_selection import RFE\n",
    "\n",
    "import warnings\n",
    "warnings.filterwarnings('ignore')"
   ]
  },
  {
   "cell_type": "markdown",
   "metadata": {},
   "source": [
    "### Function "
   ]
  },
  {
   "cell_type": "code",
   "execution_count": 2,
   "metadata": {},
   "outputs": [],
   "source": [
    "def plot_auc_curve(model, X, y):\n",
    "  try:\n",
    "      y_pred_prob = model.predict_proba(X)[:,1]\n",
    "  except:\n",
    "    d = model.decision_function(X)\n",
    "    y_pred_prob = np.exp(d) / (1 + np.exp(d))\n",
    "  \n",
    "  auc = roc_auc_score(y, y_pred_prob)\n",
    "  fpr, tpr, thresholds = roc_curve(y, y_pred_prob)\n",
    "  \n",
    "  plt.plot(fpr, tpr)\n",
    "  plt.xlim([0.0, 1.0])\n",
    "  plt.ylim([0.0, 1.0])\n",
    "  plt.title('ROC Curve\\n AUC={auc}'.format(auc = auc))\n",
    "  plt.xlabel('False Positive Rate')\n",
    "  plt.ylabel('True Positive Rate')\n",
    "  plt.grid(True)"
   ]
  },
  {
   "cell_type": "markdown",
   "metadata": {},
   "source": [
    "## Preparing X and y"
   ]
  },
  {
   "cell_type": "code",
   "execution_count": 3,
   "metadata": {},
   "outputs": [
    {
     "data": {
      "text/html": [
       "<div>\n",
       "<style scoped>\n",
       "    .dataframe tbody tr th:only-of-type {\n",
       "        vertical-align: middle;\n",
       "    }\n",
       "\n",
       "    .dataframe tbody tr th {\n",
       "        vertical-align: top;\n",
       "    }\n",
       "\n",
       "    .dataframe thead th {\n",
       "        text-align: right;\n",
       "    }\n",
       "</style>\n",
       "<table border=\"1\" class=\"dataframe\">\n",
       "  <thead>\n",
       "    <tr style=\"text-align: right;\">\n",
       "      <th></th>\n",
       "      <th>id</th>\n",
       "      <th>Time</th>\n",
       "      <th>V1</th>\n",
       "      <th>V2</th>\n",
       "      <th>V3</th>\n",
       "      <th>V4</th>\n",
       "      <th>V5</th>\n",
       "      <th>V6</th>\n",
       "      <th>V7</th>\n",
       "      <th>V8</th>\n",
       "      <th>...</th>\n",
       "      <th>V20</th>\n",
       "      <th>V21</th>\n",
       "      <th>V22</th>\n",
       "      <th>V23</th>\n",
       "      <th>V24</th>\n",
       "      <th>V25</th>\n",
       "      <th>V26</th>\n",
       "      <th>V27</th>\n",
       "      <th>V28</th>\n",
       "      <th>Amount</th>\n",
       "    </tr>\n",
       "  </thead>\n",
       "  <tbody>\n",
       "    <tr>\n",
       "      <th>0</th>\n",
       "      <td>30808</td>\n",
       "      <td>109847</td>\n",
       "      <td>1.930307</td>\n",
       "      <td>-0.234417</td>\n",
       "      <td>-1.583368</td>\n",
       "      <td>0.024786</td>\n",
       "      <td>1.016470</td>\n",
       "      <td>1.179664</td>\n",
       "      <td>-0.386242</td>\n",
       "      <td>0.327416</td>\n",
       "      <td>...</td>\n",
       "      <td>-0.437585</td>\n",
       "      <td>0.211402</td>\n",
       "      <td>1.015098</td>\n",
       "      <td>0.073241</td>\n",
       "      <td>-0.804496</td>\n",
       "      <td>0.072202</td>\n",
       "      <td>-0.383211</td>\n",
       "      <td>0.016787</td>\n",
       "      <td>-0.081815</td>\n",
       "      <td>1.00</td>\n",
       "    </tr>\n",
       "    <tr>\n",
       "      <th>1</th>\n",
       "      <td>174948</td>\n",
       "      <td>84730</td>\n",
       "      <td>-5.053316</td>\n",
       "      <td>-3.617236</td>\n",
       "      <td>-0.323455</td>\n",
       "      <td>1.447171</td>\n",
       "      <td>-0.097495</td>\n",
       "      <td>-0.154917</td>\n",
       "      <td>-2.076441</td>\n",
       "      <td>1.331307</td>\n",
       "      <td>...</td>\n",
       "      <td>-1.351008</td>\n",
       "      <td>-0.202483</td>\n",
       "      <td>0.036442</td>\n",
       "      <td>-1.901898</td>\n",
       "      <td>0.090641</td>\n",
       "      <td>-1.777126</td>\n",
       "      <td>0.947972</td>\n",
       "      <td>0.954071</td>\n",
       "      <td>-1.577919</td>\n",
       "      <td>333.48</td>\n",
       "    </tr>\n",
       "    <tr>\n",
       "      <th>2</th>\n",
       "      <td>203982</td>\n",
       "      <td>95957</td>\n",
       "      <td>0.090684</td>\n",
       "      <td>1.197902</td>\n",
       "      <td>-1.370219</td>\n",
       "      <td>0.770437</td>\n",
       "      <td>0.857203</td>\n",
       "      <td>-0.698486</td>\n",
       "      <td>1.350617</td>\n",
       "      <td>-0.952780</td>\n",
       "      <td>...</td>\n",
       "      <td>0.617074</td>\n",
       "      <td>-0.255027</td>\n",
       "      <td>0.378177</td>\n",
       "      <td>-0.126596</td>\n",
       "      <td>0.572250</td>\n",
       "      <td>0.347829</td>\n",
       "      <td>0.538705</td>\n",
       "      <td>-0.211582</td>\n",
       "      <td>-0.267241</td>\n",
       "      <td>50.14</td>\n",
       "    </tr>\n",
       "    <tr>\n",
       "      <th>3</th>\n",
       "      <td>283146</td>\n",
       "      <td>142109</td>\n",
       "      <td>1.808668</td>\n",
       "      <td>-1.197522</td>\n",
       "      <td>-2.291089</td>\n",
       "      <td>-0.690236</td>\n",
       "      <td>-0.312654</td>\n",
       "      <td>-1.756994</td>\n",
       "      <td>0.631548</td>\n",
       "      <td>-0.725965</td>\n",
       "      <td>...</td>\n",
       "      <td>0.457894</td>\n",
       "      <td>0.498576</td>\n",
       "      <td>0.927097</td>\n",
       "      <td>-0.283918</td>\n",
       "      <td>0.134011</td>\n",
       "      <td>0.372327</td>\n",
       "      <td>0.050185</td>\n",
       "      <td>-0.121994</td>\n",
       "      <td>-0.038088</td>\n",
       "      <td>254.04</td>\n",
       "    </tr>\n",
       "    <tr>\n",
       "      <th>4</th>\n",
       "      <td>47316</td>\n",
       "      <td>129034</td>\n",
       "      <td>-0.920372</td>\n",
       "      <td>1.003867</td>\n",
       "      <td>-0.110709</td>\n",
       "      <td>-2.771173</td>\n",
       "      <td>0.841827</td>\n",
       "      <td>-0.497278</td>\n",
       "      <td>0.769851</td>\n",
       "      <td>0.474075</td>\n",
       "      <td>...</td>\n",
       "      <td>-0.175248</td>\n",
       "      <td>-0.238352</td>\n",
       "      <td>-0.849203</td>\n",
       "      <td>-0.124786</td>\n",
       "      <td>0.086646</td>\n",
       "      <td>-0.007944</td>\n",
       "      <td>0.360582</td>\n",
       "      <td>0.090110</td>\n",
       "      <td>0.091000</td>\n",
       "      <td>1.00</td>\n",
       "    </tr>\n",
       "  </tbody>\n",
       "</table>\n",
       "<p>5 rows × 31 columns</p>\n",
       "</div>"
      ],
      "text/plain": [
       "       id    Time        V1        V2        V3        V4        V5        V6  \\\n",
       "0   30808  109847  1.930307 -0.234417 -1.583368  0.024786  1.016470  1.179664   \n",
       "1  174948   84730 -5.053316 -3.617236 -0.323455  1.447171 -0.097495 -0.154917   \n",
       "2  203982   95957  0.090684  1.197902 -1.370219  0.770437  0.857203 -0.698486   \n",
       "3  283146  142109  1.808668 -1.197522 -2.291089 -0.690236 -0.312654 -1.756994   \n",
       "4   47316  129034 -0.920372  1.003867 -0.110709 -2.771173  0.841827 -0.497278   \n",
       "\n",
       "         V7        V8   ...         V20       V21       V22       V23  \\\n",
       "0 -0.386242  0.327416   ...   -0.437585  0.211402  1.015098  0.073241   \n",
       "1 -2.076441  1.331307   ...   -1.351008 -0.202483  0.036442 -1.901898   \n",
       "2  1.350617 -0.952780   ...    0.617074 -0.255027  0.378177 -0.126596   \n",
       "3  0.631548 -0.725965   ...    0.457894  0.498576  0.927097 -0.283918   \n",
       "4  0.769851  0.474075   ...   -0.175248 -0.238352 -0.849203 -0.124786   \n",
       "\n",
       "        V24       V25       V26       V27       V28  Amount  \n",
       "0 -0.804496  0.072202 -0.383211  0.016787 -0.081815    1.00  \n",
       "1  0.090641 -1.777126  0.947972  0.954071 -1.577919  333.48  \n",
       "2  0.572250  0.347829  0.538705 -0.211582 -0.267241   50.14  \n",
       "3  0.134011  0.372327  0.050185 -0.121994 -0.038088  254.04  \n",
       "4  0.086646 -0.007944  0.360582  0.090110  0.091000    1.00  \n",
       "\n",
       "[5 rows x 31 columns]"
      ]
     },
     "execution_count": 3,
     "metadata": {},
     "output_type": "execute_result"
    }
   ],
   "source": [
    "df = pd.read_csv('creditcard_dataset.csv') \n",
    "test = pd.read_csv('creditcard_test_dataset.csv') \n",
    "test.head()"
   ]
  },
  {
   "cell_type": "code",
   "execution_count": 4,
   "metadata": {},
   "outputs": [
    {
     "data": {
      "text/plain": [
       "id        0\n",
       "Time      0\n",
       "V1        0\n",
       "V2        0\n",
       "V3        0\n",
       "V4        0\n",
       "V5        0\n",
       "V6        0\n",
       "V7        0\n",
       "V8        0\n",
       "V9        0\n",
       "V10       0\n",
       "V11       0\n",
       "V12       0\n",
       "V13       0\n",
       "V14       0\n",
       "V15       0\n",
       "V16       0\n",
       "V17       0\n",
       "V18       0\n",
       "V19       0\n",
       "V20       0\n",
       "V21       0\n",
       "V22       0\n",
       "V23       0\n",
       "V24       0\n",
       "V25       0\n",
       "V26       0\n",
       "V27       0\n",
       "V28       0\n",
       "Amount    0\n",
       "Class     0\n",
       "dtype: int64"
      ]
     },
     "execution_count": 4,
     "metadata": {},
     "output_type": "execute_result"
    }
   ],
   "source": [
    "df.isnull().sum()"
   ]
  },
  {
   "cell_type": "code",
   "execution_count": 5,
   "metadata": {},
   "outputs": [
    {
     "data": {
      "text/plain": [
       "Text(0.5, 0, 'Class')"
      ]
     },
     "execution_count": 5,
     "metadata": {},
     "output_type": "execute_result"
    },
    {
     "data": {
      "image/png": "[encoded data removed]",
      "text/plain": [
       "<Figure size 432x288 with 1 Axes>"
      ]
     },
     "metadata": {},
     "output_type": "display_data"
    }
   ],
   "source": [
    "count_classes = pd.value_counts(df['Class'], sort = True).sort_index()\n",
    "count_classes.plot(kind = 'pie')\n",
    "plt.title(\"Fraud class Detection \")\n",
    "plt.xlabel(\"Class\")"
   ]
  },
  {
   "cell_type": "code",
   "execution_count": 6,
   "metadata": {},
   "outputs": [
    {
     "data": {
      "text/plain": [
       "(244807, 32)"
      ]
     },
     "execution_count": 6,
     "metadata": {},
     "output_type": "execute_result"
    }
   ],
   "source": [
    "df.shape"
   ]
  },
  {
   "cell_type": "code",
   "execution_count": 8,
   "metadata": {},
   "outputs": [],
   "source": [
    "from sklearn.preprocessing import StandardScaler\n",
    "scaler = StandardScaler()\n",
    "df[['Time', 'Amount']] = scaler.fit_transform(df[['Time', 'Amount']].values.reshape(-1, 2))\n",
    "test[['Time', 'Amount']] = scaler.fit_transform(test[['Time', 'Amount']].values.reshape(-1, 2))"
   ]
  },
  {
   "cell_type": "code",
   "execution_count": 9,
   "metadata": {},
   "outputs": [
    {
     "data": {
      "text/html": [
       "<div>\n",
       "<style scoped>\n",
       "    .dataframe tbody tr th:only-of-type {\n",
       "        vertical-align: middle;\n",
       "    }\n",
       "\n",
       "    .dataframe tbody tr th {\n",
       "        vertical-align: top;\n",
       "    }\n",
       "\n",
       "    .dataframe thead th {\n",
       "        text-align: right;\n",
       "    }\n",
       "</style>\n",
       "<table border=\"1\" class=\"dataframe\">\n",
       "  <thead>\n",
       "    <tr style=\"text-align: right;\">\n",
       "      <th></th>\n",
       "      <th>Time</th>\n",
       "      <th>V1</th>\n",
       "      <th>V2</th>\n",
       "      <th>V3</th>\n",
       "      <th>V4</th>\n",
       "      <th>V5</th>\n",
       "      <th>V6</th>\n",
       "      <th>V7</th>\n",
       "      <th>V8</th>\n",
       "      <th>V9</th>\n",
       "      <th>...</th>\n",
       "      <th>V20</th>\n",
       "      <th>V21</th>\n",
       "      <th>V22</th>\n",
       "      <th>V23</th>\n",
       "      <th>V24</th>\n",
       "      <th>V25</th>\n",
       "      <th>V26</th>\n",
       "      <th>V27</th>\n",
       "      <th>V28</th>\n",
       "      <th>Amount</th>\n",
       "    </tr>\n",
       "  </thead>\n",
       "  <tbody>\n",
       "    <tr>\n",
       "      <th>0</th>\n",
       "      <td>-0.760285</td>\n",
       "      <td>-0.854092</td>\n",
       "      <td>0.644458</td>\n",
       "      <td>1.805656</td>\n",
       "      <td>1.146369</td>\n",
       "      <td>-0.519127</td>\n",
       "      <td>1.844676</td>\n",
       "      <td>-0.935942</td>\n",
       "      <td>1.056104</td>\n",
       "      <td>0.097375</td>\n",
       "      <td>...</td>\n",
       "      <td>-0.152801</td>\n",
       "      <td>0.193673</td>\n",
       "      <td>0.789467</td>\n",
       "      <td>0.218834</td>\n",
       "      <td>-0.577043</td>\n",
       "      <td>-0.727521</td>\n",
       "      <td>0.612977</td>\n",
       "      <td>-0.219109</td>\n",
       "      <td>-0.063157</td>\n",
       "      <td>-0.306075</td>\n",
       "    </tr>\n",
       "    <tr>\n",
       "      <th>1</th>\n",
       "      <td>1.462703</td>\n",
       "      <td>-0.863534</td>\n",
       "      <td>0.291699</td>\n",
       "      <td>0.594479</td>\n",
       "      <td>-1.190707</td>\n",
       "      <td>0.117851</td>\n",
       "      <td>0.169880</td>\n",
       "      <td>0.065587</td>\n",
       "      <td>0.289947</td>\n",
       "      <td>-1.748278</td>\n",
       "      <td>...</td>\n",
       "      <td>-0.399149</td>\n",
       "      <td>-0.223345</td>\n",
       "      <td>-0.333300</td>\n",
       "      <td>-0.455269</td>\n",
       "      <td>0.185385</td>\n",
       "      <td>0.432974</td>\n",
       "      <td>0.931127</td>\n",
       "      <td>-0.414413</td>\n",
       "      <td>-0.284978</td>\n",
       "      <td>-0.250542</td>\n",
       "    </tr>\n",
       "    <tr>\n",
       "      <th>2</th>\n",
       "      <td>-1.178903</td>\n",
       "      <td>-1.192107</td>\n",
       "      <td>-0.896044</td>\n",
       "      <td>1.204410</td>\n",
       "      <td>-1.593935</td>\n",
       "      <td>0.432699</td>\n",
       "      <td>-1.101769</td>\n",
       "      <td>-0.299815</td>\n",
       "      <td>0.222793</td>\n",
       "      <td>-1.320361</td>\n",
       "      <td>...</td>\n",
       "      <td>0.422365</td>\n",
       "      <td>0.470749</td>\n",
       "      <td>0.932440</td>\n",
       "      <td>0.159099</td>\n",
       "      <td>0.215700</td>\n",
       "      <td>-0.169315</td>\n",
       "      <td>-0.320951</td>\n",
       "      <td>0.310243</td>\n",
       "      <td>0.210535</td>\n",
       "      <td>-0.117575</td>\n",
       "    </tr>\n",
       "    <tr>\n",
       "      <th>3</th>\n",
       "      <td>-1.982275</td>\n",
       "      <td>-2.355336</td>\n",
       "      <td>2.316182</td>\n",
       "      <td>0.701735</td>\n",
       "      <td>0.174501</td>\n",
       "      <td>0.677346</td>\n",
       "      <td>1.029705</td>\n",
       "      <td>0.792868</td>\n",
       "      <td>-0.060581</td>\n",
       "      <td>1.296525</td>\n",
       "      <td>...</td>\n",
       "      <td>0.972466</td>\n",
       "      <td>0.008872</td>\n",
       "      <td>0.955806</td>\n",
       "      <td>0.047292</td>\n",
       "      <td>-0.650140</td>\n",
       "      <td>-0.282282</td>\n",
       "      <td>-0.286391</td>\n",
       "      <td>0.335493</td>\n",
       "      <td>0.223061</td>\n",
       "      <td>-0.340423</td>\n",
       "    </tr>\n",
       "    <tr>\n",
       "      <th>4</th>\n",
       "      <td>-0.910943</td>\n",
       "      <td>-1.302336</td>\n",
       "      <td>1.016359</td>\n",
       "      <td>1.007046</td>\n",
       "      <td>-0.127051</td>\n",
       "      <td>0.435740</td>\n",
       "      <td>-0.092143</td>\n",
       "      <td>0.709650</td>\n",
       "      <td>0.590142</td>\n",
       "      <td>-1.088295</td>\n",
       "      <td>...</td>\n",
       "      <td>-0.174480</td>\n",
       "      <td>0.150091</td>\n",
       "      <td>0.059446</td>\n",
       "      <td>-0.262177</td>\n",
       "      <td>-0.354871</td>\n",
       "      <td>0.680078</td>\n",
       "      <td>-0.402172</td>\n",
       "      <td>-0.111834</td>\n",
       "      <td>-0.044427</td>\n",
       "      <td>-0.146139</td>\n",
       "    </tr>\n",
       "  </tbody>\n",
       "</table>\n",
       "<p>5 rows × 30 columns</p>\n",
       "</div>"
      ],
      "text/plain": [
       "       Time        V1        V2        V3        V4        V5        V6  \\\n",
       "0 -0.760285 -0.854092  0.644458  1.805656  1.146369 -0.519127  1.844676   \n",
       "1  1.462703 -0.863534  0.291699  0.594479 -1.190707  0.117851  0.169880   \n",
       "2 -1.178903 -1.192107 -0.896044  1.204410 -1.593935  0.432699 -1.101769   \n",
       "3 -1.982275 -2.355336  2.316182  0.701735  0.174501  0.677346  1.029705   \n",
       "4 -0.910943 -1.302336  1.016359  1.007046 -0.127051  0.435740 -0.092143   \n",
       "\n",
       "         V7        V8        V9    ...          V20       V21       V22  \\\n",
       "0 -0.935942  1.056104  0.097375    ...    -0.152801  0.193673  0.789467   \n",
       "1  0.065587  0.289947 -1.748278    ...    -0.399149 -0.223345 -0.333300   \n",
       "2 -0.299815  0.222793 -1.320361    ...     0.422365  0.470749  0.932440   \n",
       "3  0.792868 -0.060581  1.296525    ...     0.972466  0.008872  0.955806   \n",
       "4  0.709650  0.590142 -1.088295    ...    -0.174480  0.150091  0.059446   \n",
       "\n",
       "        V23       V24       V25       V26       V27       V28    Amount  \n",
       "0  0.218834 -0.577043 -0.727521  0.612977 -0.219109 -0.063157 -0.306075  \n",
       "1 -0.455269  0.185385  0.432974  0.931127 -0.414413 -0.284978 -0.250542  \n",
       "2  0.159099  0.215700 -0.169315 -0.320951  0.310243  0.210535 -0.117575  \n",
       "3  0.047292 -0.650140 -0.282282 -0.286391  0.335493  0.223061 -0.340423  \n",
       "4 -0.262177 -0.354871  0.680078 -0.402172 -0.111834 -0.044427 -0.146139  \n",
       "\n",
       "[5 rows x 30 columns]"
      ]
     },
     "execution_count": 9,
     "metadata": {},
     "output_type": "execute_result"
    }
   ],
   "source": [
    "X = df.iloc[:, 1:31]\n",
    "y = df.iloc[:, -1]\n",
    "\n",
    "Xtest = test.iloc[:, 1:31]\n",
    "X.head()"
   ]
  },
  {
   "cell_type": "markdown",
   "metadata": {},
   "source": [
    "## Split Method"
   ]
  },
  {
   "cell_type": "code",
   "execution_count": 10,
   "metadata": {},
   "outputs": [],
   "source": [
    "# 1. Use cross-validation\n",
    "\n",
    "X1_train, X1_test, y1_train, y1_test = train_test_split(X, \n",
    "                                                    y, \n",
    "                                                    test_size = 0.05,\n",
    "                                                    random_state = 1)"
   ]
  },
  {
   "cell_type": "code",
   "execution_count": 11,
   "metadata": {},
   "outputs": [
    {
     "data": {
      "text/plain": [
       "[0.9991013806061596, 0.9619928514910917, 0.006164278399536513]"
      ]
     },
     "execution_count": 11,
     "metadata": {},
     "output_type": "execute_result"
    }
   ],
   "source": [
    "LR = LogisticRegression()\n",
    "LR.fit(X1_train, y1_train)\n",
    "y1_pred = LR.predict(X1_test)\n",
    "y1_pred_prob = LR.predict_proba(X1_test)[:,1]\n",
    "\n",
    "[accuracy_score(y1_test, y1_pred), roc_auc_score(y1_test, y1_pred_prob), log_loss(y1_test, y1_pred_prob)]"
   ]
  },
  {
   "cell_type": "code",
   "execution_count": 20,
   "metadata": {},
   "outputs": [
    {
     "data": {
      "text/plain": [
       "array([[12214,     3],\n",
       "       [    8,    16]])"
      ]
     },
     "execution_count": 20,
     "metadata": {},
     "output_type": "execute_result"
    }
   ],
   "source": [
    "confusion_matrix(y1_test , y1_pred)"
   ]
  },
  {
   "cell_type": "code",
   "execution_count": 12,
   "metadata": {},
   "outputs": [],
   "source": [
    "# 2. StratifiedShuffleSplit (Folds are made by preserving the percentage of samples for each class)\n",
    "\n",
    "split = StratifiedShuffleSplit(n_splits=10, test_size=0.05, train_size=0.95, random_state=0)\n",
    "\n",
    "for train_idx, test_idx in split.split(X, y):\n",
    "    X_train, X_test = X.iloc[train_idx, :], X.iloc[test_idx, :]\n",
    "    y_train, y_test = y[train_idx], y[test_idx]"
   ]
  },
  {
   "cell_type": "code",
   "execution_count": 13,
   "metadata": {},
   "outputs": [
    {
     "data": {
      "text/plain": [
       "[0.9993464586226616, 0.988293975528018, 0.0038022930099709104]"
      ]
     },
     "execution_count": 13,
     "metadata": {},
     "output_type": "execute_result"
    }
   ],
   "source": [
    "LR = LogisticRegression()\n",
    "LR.fit(X_train, y_train)\n",
    "y_pred = LR.predict(X_test)\n",
    "y_pred_prob = LR.predict_proba(X_test)[:,1]\n",
    "\n",
    "[accuracy_score(y_test, y_pred), roc_auc_score(y_test, y_pred_prob), log_loss(y_test, y_pred_prob)]"
   ]
  },
  {
   "cell_type": "code",
   "execution_count": 16,
   "metadata": {},
   "outputs": [
    {
     "data": {
      "text/plain": [
       "array([[12217,     3],\n",
       "       [    9,    12]])"
      ]
     },
     "execution_count": 16,
     "metadata": {},
     "output_type": "execute_result"
    }
   ],
   "source": [
    "confusion_matrix(y_test , y_pred)"
   ]
  },
  {
   "cell_type": "markdown",
   "metadata": {},
   "source": [
    "## Model Selection"
   ]
  },
  {
   "cell_type": "code",
   "execution_count": 23,
   "metadata": {},
   "outputs": [
    {
     "name": "stdout",
     "output_type": "stream",
     "text": [
      "LogisticRegression\n",
      "1\n",
      "2\n",
      "3\n",
      "4\n",
      "5\n",
      "RandomForestClassifier\n",
      "1\n",
      "2\n",
      "3\n",
      "4\n",
      "5\n",
      "AdaBoostClassifier\n",
      "1\n",
      "2\n",
      "3\n",
      "4\n",
      "5\n",
      "GradientBoostingClassifier\n",
      "1\n",
      "2\n",
      "3\n",
      "4\n",
      "5\n"
     ]
    },
    {
     "data": {
      "text/html": [
       "<div>\n",
       "<style scoped>\n",
       "    .dataframe tbody tr th:only-of-type {\n",
       "        vertical-align: middle;\n",
       "    }\n",
       "\n",
       "    .dataframe tbody tr th {\n",
       "        vertical-align: top;\n",
       "    }\n",
       "\n",
       "    .dataframe thead th {\n",
       "        text-align: right;\n",
       "    }\n",
       "</style>\n",
       "<table border=\"1\" class=\"dataframe\">\n",
       "  <thead>\n",
       "    <tr style=\"text-align: right;\">\n",
       "      <th></th>\n",
       "      <th>Model</th>\n",
       "      <th>Accuracy</th>\n",
       "      <th>AUC</th>\n",
       "      <th>LogLoss</th>\n",
       "    </tr>\n",
       "  </thead>\n",
       "  <tbody>\n",
       "    <tr>\n",
       "      <th>0</th>\n",
       "      <td>LogisticRegression</td>\n",
       "      <td>0.999273</td>\n",
       "      <td>0.975723</td>\n",
       "      <td>0.00382113</td>\n",
       "    </tr>\n",
       "    <tr>\n",
       "      <th>1</th>\n",
       "      <td>RandomForestClassifier</td>\n",
       "      <td>0.999543</td>\n",
       "      <td>0.932971</td>\n",
       "      <td>0.00942567</td>\n",
       "    </tr>\n",
       "    <tr>\n",
       "      <th>2</th>\n",
       "      <td>AdaBoostClassifier</td>\n",
       "      <td>0.999281</td>\n",
       "      <td>0.967043</td>\n",
       "      <td>0.52118</td>\n",
       "    </tr>\n",
       "    <tr>\n",
       "      <th>3</th>\n",
       "      <td>GradientBoostingClassifier</td>\n",
       "      <td>0.998775</td>\n",
       "      <td>0.498512</td>\n",
       "      <td>0.0326725</td>\n",
       "    </tr>\n",
       "  </tbody>\n",
       "</table>\n",
       "</div>"
      ],
      "text/plain": [
       "                        Model  Accuracy       AUC     LogLoss\n",
       "0          LogisticRegression  0.999273  0.975723  0.00382113\n",
       "1      RandomForestClassifier  0.999543  0.932971  0.00942567\n",
       "2          AdaBoostClassifier  0.999281  0.967043     0.52118\n",
       "3  GradientBoostingClassifier  0.998775  0.498512   0.0326725"
      ]
     },
     "execution_count": 23,
     "metadata": {},
     "output_type": "execute_result"
    }
   ],
   "source": [
    "split = StratifiedShuffleSplit(n_splits=5, test_size=0.1, train_size=0.85, random_state=0)\n",
    "\n",
    "\n",
    "model = [LogisticRegression(),\n",
    "         RandomForestClassifier(),\n",
    "         AdaBoostClassifier(),\n",
    "         GradientBoostingClassifier()]\n",
    "\n",
    "res = pd.DataFrame(columns=['Model', 'Accuracy', 'AUC', 'LogLoss'])\n",
    "j=0\n",
    "\n",
    "for classifier in model:\n",
    "    accu, auc, logloss = [], [], []\n",
    "    print(classifier.__class__.__name__)\n",
    "    i=0\n",
    "    \n",
    "    for train_idx, test_idx in split.split(X, y):\n",
    "        X_train, X_test = X.iloc[train_idx, :], X.iloc[test_idx, :]\n",
    "        y_train, y_test = y[train_idx], y[test_idx]\n",
    "    \n",
    "        classifier.fit(X_train, y_train)\n",
    "        y_pred = classifier.predict(X_test)\n",
    "        y_pred_prob = classifier.predict_proba(X_test)[:,1]\n",
    "        \n",
    "        accu.append(accuracy_score(y_test, y_pred))\n",
    "        auc.append(roc_auc_score(y_test, y_pred_prob))\n",
    "        logloss.append(log_loss(y_test, y_pred_prob))\n",
    "        \n",
    "        i=i+1\n",
    "        print(i)\n",
    "        \n",
    "    res.loc[j, 'Model'] = classifier.__class__.__name__\n",
    "    res.loc[j, 'Accuracy'] = np.mean(accu)\n",
    "    res.loc[j, 'AUC'] = np.mean(auc)\n",
    "    res.loc[j, 'LogLoss'] = np.mean(logloss)\n",
    "    j += 1    \n",
    "res"
   ]
  },
  {
   "cell_type": "code",
   "execution_count": 58,
   "metadata": {},
   "outputs": [],
   "source": [
    "split = StratifiedShuffleSplit(n_splits=10, test_size=0.25, train_size=0.7, random_state=0)\n",
    "\n",
    "for train_idx, test_idx in split.split(X, y):\n",
    "    X_train, X_test = X.iloc[train_idx, :], X.iloc[test_idx, :]\n",
    "    y_train, y_test = y[train_idx], y[test_idx]"
   ]
  },
  {
   "cell_type": "markdown",
   "metadata": {},
   "source": [
    "#### SVM"
   ]
  },
  {
   "cell_type": "code",
   "execution_count": 30,
   "metadata": {},
   "outputs": [
    {
     "data": {
      "text/plain": [
       "[0.9995506719496753, 0.9536231121606955, 0.0027405832854728845]"
      ]
     },
     "execution_count": 30,
     "metadata": {},
     "output_type": "execute_result"
    }
   ],
   "source": [
    "# SVM 1\n",
    "\n",
    "SVM = SVC(probability=True,C=1.0)\n",
    "SVM.fit(X_train, y_train)\n",
    "y_pred = SVM.predict(X_test)\n",
    "y_pred_prob = SVM.predict_proba(X_test)[:,1]\n",
    "\n",
    "[accuracy_score(y_test, y_pred), roc_auc_score(y_test, y_pred_prob), log_loss(y_test, y_pred_prob)]"
   ]
  },
  {
   "cell_type": "code",
   "execution_count": 31,
   "metadata": {},
   "outputs": [
    {
     "data": {
      "text/plain": [
       "[0.9995915199542502, 0.9578737342148284, 0.0024039411766273895]"
      ]
     },
     "execution_count": 31,
     "metadata": {},
     "output_type": "execute_result"
    }
   ],
   "source": [
    "# SVM 2\n",
    "\n",
    "SVM = SVC(probability=True, class_weight ={1:2},C=1.0)\n",
    "SVM.fit(X_train, y_train)\n",
    "y_pred = SVM.predict(X_test)\n",
    "y_pred_prob = SVM.predict_proba(X_test)[:,1]\n",
    "\n",
    "[accuracy_score(y_test, y_pred), roc_auc_score(y_test, y_pred_prob), log_loss(y_test, y_pred_prob)]"
   ]
  },
  {
   "cell_type": "code",
   "execution_count": 32,
   "metadata": {},
   "outputs": [
    {
     "data": {
      "text/plain": [
       "[0.9995506719496753, 0.9568098608975896, 0.002438261075312757]"
      ]
     },
     "execution_count": 32,
     "metadata": {},
     "output_type": "execute_result"
    }
   ],
   "source": [
    "# SVM 3\n",
    "\n",
    "SVM = SVC(probability=True, class_weight ={1:3},C=1.0)\n",
    "SVM.fit(X_train, y_train)\n",
    "y_pred = SVM.predict(X_test)\n",
    "y_pred_prob = SVM.predict_proba(X_test)[:,1]\n",
    "\n",
    "[accuracy_score(y_test, y_pred), roc_auc_score(y_test, y_pred_prob), log_loss(y_test, y_pred_prob)]"
   ]
  },
  {
   "cell_type": "code",
   "execution_count": 33,
   "metadata": {},
   "outputs": [
    {
     "data": {
      "text/plain": [
       "[0.9995506719496753, 0.9577402629286912, 0.0025177308299234834]"
      ]
     },
     "execution_count": 33,
     "metadata": {},
     "output_type": "execute_result"
    }
   ],
   "source": [
    "# SVM 5\n",
    "\n",
    "SVM = SVC(probability=True, class_weight ={1:5},C=1.0)\n",
    "SVM.fit(X_train, y_train)\n",
    "y_pred = SVM.predict(X_test)\n",
    "y_pred_prob = SVM.predict_proba(X_test)[:,1]\n",
    "\n",
    "[accuracy_score(y_test, y_pred), roc_auc_score(y_test, y_pred_prob), log_loss(y_test, y_pred_prob)]"
   ]
  },
  {
   "cell_type": "code",
   "execution_count": 34,
   "metadata": {},
   "outputs": [
    {
     "data": {
      "text/plain": [
       "[0.9963236795882521, 0.9737558430221795, 0.004708499683125423]"
      ]
     },
     "execution_count": 34,
     "metadata": {},
     "output_type": "execute_result"
    }
   ],
   "source": [
    "# SVM balanced\n",
    "\n",
    "SVM = SVC(probability=True, class_weight ='balanced',C=1.0)\n",
    "SVM.fit(X_train, y_train)\n",
    "y_pred = SVM.predict(X_test)\n",
    "y_pred_prob = SVM.predict_proba(X_test)[:,1]\n",
    "\n",
    "[accuracy_score(y_test, y_pred), roc_auc_score(y_test, y_pred_prob), log_loss(y_test, y_pred_prob)]"
   ]
  },
  {
   "cell_type": "code",
   "execution_count": 35,
   "metadata": {},
   "outputs": [
    {
     "data": {
      "text/plain": [
       "array([[24357,    82],\n",
       "       [    8,    34]])"
      ]
     },
     "execution_count": 35,
     "metadata": {},
     "output_type": "execute_result"
    }
   ],
   "source": [
    "confusion_matrix(y_test, y_pred)"
   ]
  },
  {
   "cell_type": "code",
   "execution_count": 85,
   "metadata": {},
   "outputs": [],
   "source": [
    "y_predict=SVM.predict(Xtest)\n",
    "y_predict_proba=SVM.predict_proba(Xtest)\n",
    "SVM3=pd.DataFrame({'id':test['id'],'Class':y_predict})\n",
    "SVM3.to_csv('SVM3.csv',index=False,sep=',')"
   ]
  },
  {
   "cell_type": "markdown",
   "metadata": {},
   "source": [
    "#### Logistic Regression"
   ]
  },
  {
   "cell_type": "markdown",
   "metadata": {},
   "source": [
    "#### Fit Logistic regression with L1 regularization (Lasso)"
   ]
  },
  {
   "cell_type": "code",
   "execution_count": 59,
   "metadata": {},
   "outputs": [
    {
     "data": {
      "text/plain": [
       "[0.999183033234208, 0.9690195263377648, 0.004048201735905306]"
      ]
     },
     "execution_count": 59,
     "metadata": {},
     "output_type": "execute_result"
    }
   ],
   "source": [
    "# Logistic Regression  Weight=1:1\n",
    "\n",
    "LR1 = LogisticRegression(penalty='l1')\n",
    "LR1.fit(X_train, y_train)\n",
    "y_pred = LR1.predict(X_test)\n",
    "y_pred_prob = LR1.predict_proba(X_test)[:,1]\n",
    "\n",
    "[accuracy_score(y_test, y_pred), roc_auc_score(y_test, y_pred_prob), log_loss(y_test, y_pred_prob)]"
   ]
  },
  {
   "cell_type": "code",
   "execution_count": 60,
   "metadata": {},
   "outputs": [
    {
     "data": {
      "text/plain": [
       "array([[61088,     8],\n",
       "       [   42,    64]])"
      ]
     },
     "execution_count": 60,
     "metadata": {},
     "output_type": "execute_result"
    }
   ],
   "source": [
    "confusion_matrix(y_test, y_pred)"
   ]
  },
  {
   "cell_type": "code",
   "execution_count": 61,
   "metadata": {},
   "outputs": [
    {
     "data": {
      "image/png": "[encoded data removed]",
      "text/plain": [
       "<Figure size 432x288 with 1 Axes>"
      ]
     },
     "metadata": {
      "needs_background": "light"
     },
     "output_type": "display_data"
    }
   ],
   "source": [
    "plot_auc_curve(LR1, X_test, y_test)"
   ]
  },
  {
   "cell_type": "code",
   "execution_count": 62,
   "metadata": {},
   "outputs": [
    {
     "data": {
      "text/plain": [
       "[0.999281069246103, 0.971666767549245, 0.0040827820006948895]"
      ]
     },
     "execution_count": 62,
     "metadata": {},
     "output_type": "execute_result"
    }
   ],
   "source": [
    "# Logistic Regression  Weight=7:3\n",
    "\n",
    "LR2 = LogisticRegression(penalty='l2', dual=False, tol=0.0001, C=1.0, fit_intercept=True, intercept_scaling=1, \n",
    "                        class_weight={0:0.3, 1:0.7}, random_state=None, solver='lbfgs', max_iter=100, multi_class='warn', \n",
    "                        verbose=0, warm_start=False, n_jobs=None)\n",
    "LR2.fit(X_train, y_train)\n",
    "y_pred = LR2.predict(X_test)\n",
    "y_pred_prob = LR2.predict_proba(X_test)[:,1]\n",
    "\n",
    "[accuracy_score(y_test, y_pred), roc_auc_score(y_test, y_pred_prob), log_loss(y_test, y_pred_prob)]"
   ]
  },
  {
   "cell_type": "code",
   "execution_count": 63,
   "metadata": {},
   "outputs": [
    {
     "data": {
      "text/plain": [
       "array([[61080,    16],\n",
       "       [   28,    78]])"
      ]
     },
     "execution_count": 63,
     "metadata": {},
     "output_type": "execute_result"
    }
   ],
   "source": [
    "confusion_matrix(y_test, y_pred)"
   ]
  },
  {
   "cell_type": "code",
   "execution_count": 64,
   "metadata": {},
   "outputs": [
    {
     "data": {
      "image/png": "[encoded data removed]",
      "text/plain": [
       "<Figure size 432x288 with 1 Axes>"
      ]
     },
     "metadata": {
      "needs_background": "light"
     },
     "output_type": "display_data"
    }
   ],
   "source": [
    "plot_auc_curve(LR2, X_test, y_test)"
   ]
  },
  {
   "cell_type": "code",
   "execution_count": 65,
   "metadata": {},
   "outputs": [
    {
     "data": {
      "text/plain": [
       "[0.9992974085814189, 0.9713724580678476, 0.004265685116789128]"
      ]
     },
     "execution_count": 65,
     "metadata": {},
     "output_type": "execute_result"
    }
   ],
   "source": [
    "# Logistic Regression  Weight=3:1\n",
    "\n",
    "LR3 = LogisticRegression(penalty='l1',class_weight={1:3})\n",
    "LR3.fit(X_train, y_train)\n",
    "y_pred = LR3.predict(X_test)\n",
    "y_pred_prob = LR3.predict_proba(X_test)[:,1]\n",
    "\n",
    "[accuracy_score(y_test, y_pred), roc_auc_score(y_test, y_pred_prob), log_loss(y_test, y_pred_prob)]"
   ]
  },
  {
   "cell_type": "code",
   "execution_count": 66,
   "metadata": {},
   "outputs": [
    {
     "data": {
      "text/plain": [
       "array([[61080,    16],\n",
       "       [   27,    79]])"
      ]
     },
     "execution_count": 66,
     "metadata": {},
     "output_type": "execute_result"
    }
   ],
   "source": [
    "confusion_matrix(y_test, y_pred)"
   ]
  },
  {
   "cell_type": "code",
   "execution_count": 67,
   "metadata": {},
   "outputs": [
    {
     "data": {
      "image/png": "[encoded data removed]",
      "text/plain": [
       "<Figure size 432x288 with 1 Axes>"
      ]
     },
     "metadata": {
      "needs_background": "light"
     },
     "output_type": "display_data"
    }
   ],
   "source": [
    "plot_auc_curve(LR3, X_test, y_test)"
   ]
  },
  {
   "cell_type": "code",
   "execution_count": 68,
   "metadata": {},
   "outputs": [
    {
     "data": {
      "text/plain": [
       "[0.9992974085814189, 0.9708661407596089, 0.0048878398186192554]"
      ]
     },
     "execution_count": 68,
     "metadata": {},
     "output_type": "execute_result"
    }
   ],
   "source": [
    "# Logistic Regression  Weight=5:1\n",
    "\n",
    "LR4 = LogisticRegression(penalty='l1',class_weight={1:5})\n",
    "LR4.fit(X_train, y_train)\n",
    "y_pred = LR4.predict(X_test)\n",
    "y_pred_prob = LR4.predict_proba(X_test)[:,1]\n",
    "\n",
    "[accuracy_score(y_test, y_pred), roc_auc_score(y_test, y_pred_prob), log_loss(y_test, y_pred_prob)]"
   ]
  },
  {
   "cell_type": "code",
   "execution_count": 69,
   "metadata": {},
   "outputs": [
    {
     "data": {
      "text/plain": [
       "array([[61076,    20],\n",
       "       [   23,    83]])"
      ]
     },
     "execution_count": 69,
     "metadata": {},
     "output_type": "execute_result"
    }
   ],
   "source": [
    "confusion_matrix(y_test, y_pred)"
   ]
  },
  {
   "cell_type": "code",
   "execution_count": 70,
   "metadata": {},
   "outputs": [
    {
     "data": {
      "image/png": "[encoded data removed]",
      "text/plain": [
       "<Figure size 432x288 with 1 Axes>"
      ]
     },
     "metadata": {
      "needs_background": "light"
     },
     "output_type": "display_data"
    }
   ],
   "source": [
    "plot_auc_curve(LR4, X_test, y_test)"
   ]
  },
  {
   "cell_type": "code",
   "execution_count": 71,
   "metadata": {},
   "outputs": [
    {
     "data": {
      "text/plain": [
       "[0.9994444625992615, 0.9781387967220162, 0.006176502043768645]"
      ]
     },
     "execution_count": 71,
     "metadata": {},
     "output_type": "execute_result"
    }
   ],
   "source": [
    "# Logistic Regression  solver = 'sag'\n",
    "\n",
    "LR5 = LogisticRegression(penalty='l2', dual=False, tol=0.0001, C=1.0, fit_intercept=True, intercept_scaling=1, \n",
    "                        class_weight={0:0.275, 1:0.725}, random_state=None, solver='sag', max_iter=100, multi_class='warn', \n",
    "                        verbose=0, warm_start=False, n_jobs=None)\n",
    "LR5.fit(X_train, y_train)\n",
    "y_pred = LR5.predict(X_test)\n",
    "y_pred_prob = LR5.predict_proba(X_test)[:,1]\n",
    "\n",
    "[accuracy_score(y_test, y_pred), roc_auc_score(y_test, y_pred_prob), log_loss(y_test, y_pred_prob)]"
   ]
  },
  {
   "cell_type": "code",
   "execution_count": 72,
   "metadata": {},
   "outputs": [
    {
     "data": {
      "text/plain": [
       "array([[61089,     7],\n",
       "       [   27,    79]])"
      ]
     },
     "execution_count": 72,
     "metadata": {},
     "output_type": "execute_result"
    }
   ],
   "source": [
    "confusion_matrix(y_test, y_pred)"
   ]
  },
  {
   "cell_type": "code",
   "execution_count": 73,
   "metadata": {},
   "outputs": [
    {
     "data": {
      "image/png": "[encoded data removed]",
      "text/plain": [
       "<Figure size 432x288 with 1 Axes>"
      ]
     },
     "metadata": {
      "needs_background": "light"
     },
     "output_type": "display_data"
    }
   ],
   "source": [
    "plot_auc_curve(LR5, X_test, y_test)"
   ]
  },
  {
   "cell_type": "code",
   "execution_count": 74,
   "metadata": {},
   "outputs": [
    {
     "data": {
      "text/plain": [
       "[0.9992974085814189, 0.9726780124567336, 0.0042370328862791915]"
      ]
     },
     "execution_count": 74,
     "metadata": {},
     "output_type": "execute_result"
    }
   ],
   "source": [
    "# Logistic Regression  solver = 'liblinear'\n",
    "\n",
    "LR6 = LogisticRegression(penalty='l2', dual=False, tol=0.0001, C=1.0, fit_intercept=True, intercept_scaling=1, \n",
    "                        class_weight={0:0.275, 1:0.725}, random_state=None, solver='liblinear', max_iter=100, multi_class='warn', \n",
    "                        verbose=0, warm_start=False, n_jobs=None)\n",
    "LR6.fit(X_train, y_train)\n",
    "y_pred = LR6.predict(X_test)\n",
    "y_pred_prob = LR6.predict_proba(X_test)[:,1]\n",
    "\n",
    "[accuracy_score(y_test, y_pred), roc_auc_score(y_test, y_pred_prob), log_loss(y_test, y_pred_prob)]"
   ]
  },
  {
   "cell_type": "code",
   "execution_count": 75,
   "metadata": {},
   "outputs": [
    {
     "data": {
      "text/plain": [
       "array([[61080,    16],\n",
       "       [   27,    79]])"
      ]
     },
     "execution_count": 75,
     "metadata": {},
     "output_type": "execute_result"
    }
   ],
   "source": [
    "confusion_matrix(y_test, y_pred)"
   ]
  },
  {
   "cell_type": "code",
   "execution_count": 76,
   "metadata": {},
   "outputs": [
    {
     "data": {
      "image/png": "[encoded data removed]",
      "text/plain": [
       "<Figure size 432x288 with 1 Axes>"
      ]
     },
     "metadata": {
      "needs_background": "light"
     },
     "output_type": "display_data"
    }
   ],
   "source": [
    "plot_auc_curve(LR6, X_test, y_test)"
   ]
  },
  {
   "cell_type": "code",
   "execution_count": 77,
   "metadata": {},
   "outputs": [
    {
     "data": {
      "text/plain": [
       "[0.9744942975719748, 0.9704861325572374, 0.11089925806088492]"
      ]
     },
     "execution_count": 77,
     "metadata": {},
     "output_type": "execute_result"
    }
   ],
   "source": [
    "# Logistic Regression  Weight='balanced'\n",
    "\n",
    "LR_balanced = LogisticRegression(class_weight='balanced')\n",
    "LR_balanced.fit(X_train, y_train)\n",
    "y_pred = LR_balanced.predict(X_test)\n",
    "y_pred_prob = LR_balanced.predict_proba(X_test)[:,1]\n",
    "\n",
    "[accuracy_score(y_test, y_pred), roc_auc_score(y_test, y_pred_prob), log_loss(y_test, y_pred_prob)]"
   ]
  },
  {
   "cell_type": "code",
   "execution_count": 78,
   "metadata": {},
   "outputs": [
    {
     "data": {
      "text/plain": [
       "array([[59547,  1549],\n",
       "       [   12,    94]])"
      ]
     },
     "execution_count": 78,
     "metadata": {},
     "output_type": "execute_result"
    }
   ],
   "source": [
    "confusion_matrix(y_test, y_pred)"
   ]
  },
  {
   "cell_type": "code",
   "execution_count": 79,
   "metadata": {},
   "outputs": [
    {
     "data": {
      "image/png": "[encoded data removed]",
      "text/plain": [
       "<Figure size 432x288 with 1 Axes>"
      ]
     },
     "metadata": {
      "needs_background": "light"
     },
     "output_type": "display_data"
    }
   ],
   "source": [
    "plot_auc_curve(LR_balanced, X_test, y_test)"
   ]
  },
  {
   "cell_type": "markdown",
   "metadata": {},
   "source": [
    "### Feature Selection"
   ]
  },
  {
   "cell_type": "code",
   "execution_count": 29,
   "metadata": {},
   "outputs": [
    {
     "name": "stdout",
     "output_type": "stream",
     "text": [
      "[[0.25283051 0.08582673 0.01166216 0.0196452  0.66074164 0.12075318\n",
      "  0.1568368  0.08150357 0.21218139 0.26194676 0.65296999 0.06910744\n",
      "  0.18893289 0.40563967 0.53226772 0.16935024 0.20285333 0.05174748\n",
      "  0.01776358 0.09752859 0.35395606 0.32792756 0.59373887 0.10808142\n",
      "  0.16451911 0.12212405 0.10199645 0.54182703 0.17438424 0.19112723]]\n"
     ]
    }
   ],
   "source": [
    "weights = LR2.coef_ \n",
    "abs_weights = np.abs(weights)\n",
    "\n",
    "print(abs_weights)"
   ]
  },
  {
   "cell_type": "code",
   "execution_count": 32,
   "metadata": {},
   "outputs": [],
   "source": [
    "selector = RFE(LR1, 5, step=1)\n",
    "selector = selector.fit(X_train, y_train)"
   ]
  },
  {
   "cell_type": "code",
   "execution_count": 33,
   "metadata": {},
   "outputs": [
    {
     "data": {
      "text/plain": [
       "array([12, 19, 24, 23,  1, 16,  9, 18,  4,  6,  2, 22, 21,  1,  1, 13,  3,\n",
       "       20, 26, 14,  8,  1,  1,  5, 15, 11, 25,  7, 10, 17])"
      ]
     },
     "execution_count": 33,
     "metadata": {},
     "output_type": "execute_result"
    }
   ],
   "source": [
    "selector.ranking_"
   ]
  },
  {
   "cell_type": "code",
   "execution_count": 34,
   "metadata": {},
   "outputs": [
    {
     "data": {
      "text/plain": [
       "array([False, False, False, False,  True, False, False, False, False,\n",
       "       False, False, False, False,  True,  True, False, False, False,\n",
       "       False, False, False,  True,  True, False, False, False, False,\n",
       "       False, False, False])"
      ]
     },
     "execution_count": 34,
     "metadata": {},
     "output_type": "execute_result"
    }
   ],
   "source": [
    "selector.support_"
   ]
  },
  {
   "cell_type": "code",
   "execution_count": 80,
   "metadata": {},
   "outputs": [],
   "source": [
    "pre= LogisticRegression(penalty='l2', dual=False, tol=0.0001, C=1.0, fit_intercept=True, intercept_scaling=1, \n",
    "                        class_weight={1:3}, random_state=None, solver='lbfgs', max_iter=100, multi_class='warn', \n",
    "                        verbose=0, warm_start=False, n_jobs=None)\n",
    "pre.fit(X,y)\n",
    "y_predict=pre.predict(Xtest)\n",
    "y_predict_proba=LR2.predict_proba(Xtest)[:,1]"
   ]
  },
  {
   "cell_type": "code",
   "execution_count": 81,
   "metadata": {},
   "outputs": [],
   "source": [
    "submission=pd.DataFrame({'id':test['id'],'Probability':y_predict_proba})\n",
    "submission.to_csv('Final_result.csv',index=False,sep=',')"
   ]
  }
 ],
 "metadata": {
  "kernelspec": {
   "display_name": "Python 3",
   "language": "python",
   "name": "python3"
  },
  "language_info": {
   "codemirror_mode": {
    "name": "ipython",
    "version": 3
   },
   "file_extension": ".py",
   "mimetype": "text/x-python",
   "name": "python",
   "nbconvert_exporter": "python",
   "pygments_lexer": "ipython3",
   "version": "3.6.5"
  }
 },
 "nbformat": 4,
 "nbformat_minor": 2
}
